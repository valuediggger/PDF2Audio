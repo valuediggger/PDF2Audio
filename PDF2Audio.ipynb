{
 "cells": [
  {
   "cell_type": "code",
   "execution_count": null,
   "metadata": {},
   "outputs": [
    {
     "name": "stdout",
     "output_type": "stream",
     "text": [
      "Enter the page number from which you want the system to start reading text: 1\n"
     ]
    }
   ],
   "source": [
    "import PyPDF2\n",
    "import pyttsx3\n",
    "\n",
    "book = open(r'C:\\Users\\Ankit\\Desktop\\Sources\\Ankit Pagaria Resume.pdf','rb')\n",
    "pg_no = int(input(\"Enter the page number from which you want the system to start reading text: \"))\n",
    "\n",
    "pdf_Reader = PyPDF2.PdfFileReader(book)\n",
    "pages = pdf_Reader.numPages\n",
    "\n",
    "speaker = pyttsx3.init()\n",
    "\n",
    "for num in range((pg_no-1), pages):\n",
    "    page = pdf_Reader.getPage(num)\n",
    "    text = page.extractText()\n",
    "    speaker.say(text)\n",
    "    speaker.runAndWait()"
   ]
  },
  {
   "cell_type": "code",
   "execution_count": null,
   "metadata": {},
   "outputs": [],
   "source": []
  }
 ],
 "metadata": {
  "kernelspec": {
   "display_name": "Python 3",
   "language": "python",
   "name": "python3"
  },
  "language_info": {
   "codemirror_mode": {
    "name": "ipython",
    "version": 3
   },
   "file_extension": ".py",
   "mimetype": "text/x-python",
   "name": "python",
   "nbconvert_exporter": "python",
   "pygments_lexer": "ipython3",
   "version": "3.7.3"
  }
 },
 "nbformat": 4,
 "nbformat_minor": 2
}
